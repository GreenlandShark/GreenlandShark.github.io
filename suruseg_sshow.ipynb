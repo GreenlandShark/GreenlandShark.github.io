{
 "cells": [
  {
   "cell_type": "code",
   "execution_count": 2,
   "metadata": {
    "slideshow": {
     "slide_type": "skip"
    }
   },
   "outputs": [
    {
     "data": {
      "text/html": [
       "<script>\n",
       "code_show=true;\n",
       "function code_toggle() {\n",
       " if (code_show){\n",
       " $('div.input').hide();\n",
       " $('div.output_stderr').hide();\n",
       " } else {\n",
       " $('div.input').show();\n",
       " $('div.output_stderr').show();\n",
       " }\n",
       " code_show = !code_show\n",
       "}\n",
       "$( document ).ready(code_toggle);\n",
       "</script>\n",
       "<form action='javascript:code_toggle()'><input STYLE='color: #4286f4'\n",
       "type='submit' value='Click here to toggle on/off the raw code.'></form>"
      ],
      "text/plain": [
       "<IPython.core.display.HTML object>"
      ]
     },
     "execution_count": 2,
     "metadata": {},
     "output_type": "execute_result"
    }
   ],
   "source": [
    "from IPython.display import HTML\n",
    "\n",
    "HTML('''<script>\n",
    "code_show=true;\n",
    "function code_toggle() {\n",
    " if (code_show){\n",
    " $('div.input').hide();\n",
    " $('div.output_stderr').hide();\n",
    " } else {\n",
    " $('div.input').show();\n",
    " $('div.output_stderr').show();\n",
    " }\n",
    " code_show = !code_show\n",
    "}\n",
    "$( document ).ready(code_toggle);\n",
    "</script>\n",
    "<form action='javascript:code_toggle()'><input STYLE='color: #4286f4'\n",
    "type='submit' value='Click here to toggle on/off the raw code.'></form>''')"
   ]
  },
  {
   "cell_type": "markdown",
   "metadata": {
    "slideshow": {
     "slide_type": "slide"
    }
   },
   "source": [
    "# Szilárd testek sűrűségének mérése"
   ]
  },
  {
   "cell_type": "markdown",
   "metadata": {
    "slideshow": {
     "slide_type": "slide"
    }
   },
   "source": [
    "## Mérés célja\n",
    "\n",
    "Meg szeretnénk mérni három különböző fém sűrűséget közvetlenül és Mohr-Westphal mérleggel. Meghatározni a testek anyagát."
   ]
  },
  {
   "cell_type": "markdown",
   "metadata": {
    "slideshow": {
     "slide_type": "slide"
    }
   },
   "source": [
    "## Mérőeszközök\n",
    "- Mohr-Westphal mérleg\n",
    "- Súlyok\n",
    "- Lovasok\n",
    "- Digitális mérleg\n",
    "- Csavarmikrométer\n",
    "- Tolómérő\n",
    "- Három henger alakú korong\n",
    "- Ugyanezen fémekből készült két hasáb és egy henger\n"
   ]
  },
  {
   "cell_type": "markdown",
   "metadata": {
    "slideshow": {
     "slide_type": "slide"
    }
   },
   "source": [
    "## Mérés leírása\n",
    "\n",
    "Megmérjük a hasábok a, b, c, éleinek hosszát és a henger h magasságát és d átmérőjét majd mindhárom test tömegét a digitális mérleggel. Fogjuk az egyik korongot és beletesszük a Mohr-Westphal mérleg súlytányérjába és egyensúlyba hozzuk a mérleget a súlyokkal (ekkor a tányéron lévő össztömeg 20g) és lejegyezzük az egyensúly eléréséhez szükséges súlyok tömegét, ezután áthelyezzük a korongot a mérleg merülőtányérjába majd egyensúlyba hozzuk a mérleget a lovasokkal és lejegyezzük a lovasok pozícióját, ezt megismételjük a többi koronggal.\n"
   ]
  },
  {
   "cell_type": "markdown",
   "metadata": {
    "slideshow": {
     "slide_type": "slide"
    }
   },
   "source": [
    "## Hibaforrások\n",
    "\n",
    "A hossz és tömegméréshez használt eszközök  pontosságától függ az eredmény, ez mindegyik eszköz esetén meg van adva, hibaforrás még az hogy nem feltétlenül 20°C-os volt a víz.\n"
   ]
  },
  {
   "cell_type": "markdown",
   "metadata": {
    "slideshow": {
     "slide_type": "slide"
    }
   },
   "source": [
    "## Mérési adatok\n",
    "\n",
    "### Hasábok\n",
    "|Minta|a[mm]|b[mm]|c[mm]|dx[mm]|m[g]|dm[g]|\n",
    "|-|-|-|-|-|-|-|\n",
    "|1.|24,8|11,1|11,4|0,05|63,55|0,05|\n",
    "|2.|24,3|11,8|7,2|0,05|15,45|0,05|\n",
    "\n",
    "### Henger\n",
    "\n",
    "|d[mm]|h[mm]|dx[mm]|m[g]|dm[g]|\n",
    "|-|-|-|-|-|\n",
    "|20,5|13,19|0,01|32,15|0,05|"
   ]
  },
  {
   "cell_type": "markdown",
   "metadata": {
    "slideshow": {
     "slide_type": "slide"
    }
   },
   "source": [
    "### Mohr-Westphal mérleg\n",
    "\n",
    "| Minták | Súlyok tömege [g] |\n",
    "| --- | --- |\n",
    "| 1. Korong | 15,02 |\n",
    "| 2. Korong | 11,8 |\n",
    "| 3. Korong | 13,9 |\n",
    "| Minták | Lovasok pozíciói |\n",
    "| Nagy | Közepes | Kicsi |\n",
    "| 1. Korong | 1 | 8 | - |\n",
    "| 2. Korong | 1 | 5 | - |\n",
    "| 3. Korong | 1 | 5 | 6 |"
   ]
  },
  {
   "cell_type": "markdown",
   "metadata": {
    "slideshow": {
     "slide_type": "slide"
    }
   },
   "source": [
    "## Kiértékelés\n",
    "\n",
    "Először a közvetlen módszerrel számoljuk ki a fémek sűrűségét a _ρ=m/V_ képlettel ahol _ρ_ a sűrűség, _m_ a tömeg és _V_ a térfogat. A hasáboknál _V=a\\*b\\*c_ míg a hengernél _V= (d/2) __2__ \\*π\\*h._ A relatív hibát is kiszámoljuk a _ΔV/V=δV, Δm/m=δm_ képletekkel_,_ a hibaöröklődés miatt _δV+δm=δρ._\n",
    "\n",
    "| Minták | Térfogat [cm3] | Relatív hiba [%] | Tömeg [g] | Relatív hiba [%] | Sűrűség [g/cm3] | Relatív hiba [%] |\n",
    "| --- | --- | --- | --- | --- | --- | --- |\n",
    "| 1. Hasáb | 3138,19 | 1,09 | 63,55 | 0,08 | 20,25 | 1,17 |\n",
    "| 2. Hasáb | 2064,53 | 1,32 | 15,45 | 0,32 | 7,48 | 1,64 |\n",
    "| Henger | 4353,54 | 0,18 | 32,15 | 0,16 | 7,38 | 0,34 |\n",
    "\n",
    "A Mohr-Westphal mérleggel való mérésnél a lovasok súlyából és a korongra ható felhajtóerőből származó forgatónyomatékok összege nulla, a legnagyobb lovas súlya megegyezik 10cm3 20°C –os víz tömegével, a többi lovas tizede, százada, stb. a legnagyobb tömegének, ebből meg tudjuk határozni a korong térfogatát majd sűrűségét.\n",
    "\n",
    "$0=Gn_{1}k+Gn_{2}k*\\frac{1}{10}+Gn_{2}k*\\frac{1}{100}-F*{fel}10k$\n",
    "\n",
    "Ahol G az 10 cm3 20°C-os víz tömege, k az két rovátka távolsága a mérleg karján, n a súly hányadik rovátkában van, Ffel a felhajtóerő. Ebből megkapjuk azt, hogy:\n",
    "\n",
    "$F_{fel}=\\frac{100n_{1}+10n_{2}+n_{3}}{100}*10cm^{3}\\rho_{víz}g$\n",
    "\n",
    "$V\\rho_{víz}g=\\frac{100n_{1}+10n_{2}+n_{3}}{100}*10cm^{3}\\rho_{víz}g$\n",
    "\n",
    "Ahol V az adott test térfogata, g a gravitációs gyorsulás, értéke: 9,81, ρvíz a víz sűrűsége, váltás SI be: 10cm3=0,00001m3. A test térfogata ebből:\n",
    "\n",
    "$V=\\frac{100n_{1}+10n_{2}+n_{3}}{100}*0.00001m^{3}$\n",
    "\n",
    "A sűrűséget a tömeg és térfogat hányadosaként számítjuk. A korongok tömegét úgy kapjuk, meg hogy 20g-ból kivonjuk az adott korongnál az egyensúly eléréséhez szükséges súlyok tömegét.\n",
    "\n",
    "| Minták | Tömeg [kg] | Térfogat [m3] | Sűrűség [kg/m3] |\n",
    "| --- | --- | --- | --- |\n",
    "| 1. Korong | 0,00498 | 0,0000018 | 2766,67 |\n",
    "| 2. Korong | 0,0118 | 0,0000015 | 7866,67 |\n",
    "| 3. Korong | 0,0139 | 0,00000156 | 8910,26 |"
   ]
  },
  {
   "cell_type": "markdown",
   "metadata": {
    "slideshow": {
     "slide_type": "slide"
    }
   },
   "source": [
    "## Eredménytáblázat\n",
    "\n",
    "| Anyag | Közvetlen módszer | Mohr-Westphal mérleg | Vélt anyagi minőség | Vélt anyag sűrűsége [kg/m3] |\n",
    "| --- | --- | --- | --- | --- |\n",
    "| Sűrűség [kg/m3] | Hiba [%] | Sűrűség [kg/m3] |\n",
    "| 1. Anyag | 7480 | 1,64 | 2766,67 | Alumínium | 2700 |\n",
    "| 2. Anyag | 7380 | 0,34 | 7866,67 | Vas | 7860 |\n",
    "| 3. Anyag | 20250 | 1,17 | 8910,26 | Réz | 8960 |\n",
    "\n",
    "(1. Anyag=1. Korong=2. Hasáb;\n",
    "\n",
    "2. Anyag=3. Korong=1. Hasáb;\n",
    "\n",
    "3. Anyag=2. Korong= Henger)"
   ]
  },
  {
   "cell_type": "markdown",
   "metadata": {
    "slideshow": {
     "slide_type": "slide"
    }
   },
   "source": [
    "## Konklúzió\n",
    "\n",
    "A két módszerrel mért adatok jelentősen különböznek és a közvetlen méréssel kapott sűrűségértékek alapján nem lehet meghatározni milyen fémekből, vannak a testek, valószínűleg a mérés során valahol hibát vétettünk. A Mohr-Westphal mérleggel kapott adatok jó közelítéssel megadnak fémeket, amik az adott anyagok kinézetével is összhangban vannak, ezek a fémek az alumínium, vas és réz, (1. 2. és 3. anyag).\n"
   ]
  }
 ],
 "metadata": {
  "celltoolbar": "Slideshow",
  "kernelspec": {
   "display_name": "Python 3",
   "language": "python",
   "name": "python3"
  },
  "language_info": {
   "codemirror_mode": {
    "name": "ipython",
    "version": 3
   },
   "file_extension": ".py",
   "mimetype": "text/x-python",
   "name": "python",
   "nbconvert_exporter": "python",
   "pygments_lexer": "ipython3",
   "version": "3.7.4"
  }
 },
 "nbformat": 4,
 "nbformat_minor": 2
}
